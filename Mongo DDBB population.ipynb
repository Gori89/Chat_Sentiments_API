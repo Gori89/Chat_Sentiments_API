{
 "cells": [
  {
   "cell_type": "code",
   "execution_count": 1,
   "metadata": {},
   "outputs": [],
   "source": [
    "import requests\n",
    "from pymongo import MongoClient\n",
    "from src.constants import MONGO,USER, KEY,COLL_MESSEGE , COLL_USER"
   ]
  },
  {
   "cell_type": "code",
   "execution_count": 2,
   "metadata": {},
   "outputs": [
    {
     "name": "stdout",
     "output_type": "stream",
     "text": [
      "user\n"
     ]
    }
   ],
   "source": [
    "client = MongoClient(MONGO.format(USER,KEY))\n",
    "db = client['sentiment_chat']\n",
    "collChat=db['messege']\n",
    "collUser=db[COLL_USER]\n",
    "print(COLL_USER)"
   ]
  },
  {
   "cell_type": "code",
   "execution_count": null,
   "metadata": {},
   "outputs": [],
   "source": [
    "import json\n",
    "json1_file = open('input/chat.json')\n",
    "json1_str = json1_file.read()\n",
    "json1_data = json.loads(json1_str)"
   ]
  },
  {
   "cell_type": "code",
   "execution_count": null,
   "metadata": {},
   "outputs": [],
   "source": [
    "userList=[]\n",
    "\n",
    "for document in json1_data:\n",
    "    user={}\n",
    "    user['name']=document.pop('userName')\n",
    "    user['idUser']=document['idUser']\n",
    "\n",
    "    userList.append(user)\n",
    "    collChat.insert_one(document)\n",
    "\n"
   ]
  },
  {
   "cell_type": "code",
   "execution_count": null,
   "metadata": {},
   "outputs": [],
   "source": []
  },
  {
   "cell_type": "code",
   "execution_count": null,
   "metadata": {},
   "outputs": [],
   "source": [
    "userNotDuplicate=[]\n",
    "for user in userList:\n",
    "    if user not in userNotDuplicate:\n",
    "        userNotDuplicate.append(user.copy())\n",
    "        collUser.insert_one(user)\n"
   ]
  },
  {
   "cell_type": "code",
   "execution_count": null,
   "metadata": {},
   "outputs": [],
   "source": []
  },
  {
   "cell_type": "code",
   "execution_count": 3,
   "metadata": {},
   "outputs": [
    {
     "data": {
      "text/plain": [
       "[{'_id': ObjectId('5de38795636e25cac64fa1f8'),\n",
       "  'name': 'John Wick',\n",
       "  'idUser': 0},\n",
       " {'_id': ObjectId('5de38796636e25cac64fa1f9'),\n",
       "  'name': 'Mike Wazowski',\n",
       "  'idUser': 1},\n",
       " {'_id': ObjectId('5de38796636e25cac64fa1fa'),\n",
       "  'name': 'Leia Organa',\n",
       "  'idUser': 2},\n",
       " {'_id': ObjectId('5de38796636e25cac64fa1fb'),\n",
       "  'name': 'Tony Stark',\n",
       "  'idUser': 3},\n",
       " {'_id': ObjectId('5de38796636e25cac64fa1fc'),\n",
       "  'name': 'Ellen Ripley',\n",
       "  'idUser': 4},\n",
       " {'_id': ObjectId('5de38796636e25cac64fa1fd'),\n",
       "  'name': 'J. Jonah Jameson',\n",
       "  'idUser': 5},\n",
       " {'_id': ObjectId('5de38797636e25cac64fa1fe'),\n",
       "  'name': 'Danny Torrances Finger',\n",
       "  'idUser': 6},\n",
       " {'_id': ObjectId('5de38797636e25cac64fa1ff'),\n",
       "  'name': 'Danny Torrance',\n",
       "  'idUser': 7}]"
      ]
     },
     "execution_count": 3,
     "metadata": {},
     "output_type": "execute_result"
    }
   ],
   "source": [
    "list(collUser.find({}))"
   ]
  },
  {
   "cell_type": "code",
   "execution_count": null,
   "metadata": {},
   "outputs": [],
   "source": []
  }
 ],
 "metadata": {
  "kernelspec": {
   "display_name": "Python 3",
   "language": "python",
   "name": "python3"
  },
  "language_info": {
   "codemirror_mode": {
    "name": "ipython",
    "version": 3
   },
   "file_extension": ".py",
   "mimetype": "text/x-python",
   "name": "python",
   "nbconvert_exporter": "python",
   "pygments_lexer": "ipython3",
   "version": "3.7.4"
  }
 },
 "nbformat": 4,
 "nbformat_minor": 2
}
